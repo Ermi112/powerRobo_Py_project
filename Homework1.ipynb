{
  "metadata": {
    "kernelspec": {
      "name": "python",
      "display_name": "Python (Pyodide)",
      "language": "python"
    },
    "language_info": {
      "codemirror_mode": {
        "name": "python",
        "version": 3
      },
      "file_extension": ".py",
      "mimetype": "text/x-python",
      "name": "python",
      "nbconvert_exporter": "python",
      "pygments_lexer": "ipython3",
      "version": "3.8"
    }
  },
  "nbformat_minor": 4,
  "nbformat": 4,
  "cells": [
    {
      "cell_type": "markdown",
      "source": "1. Estimate the worst-case time complexity:\n\nfunc0(n):",
      "metadata": {}
    },
    {
      "cell_type": "code",
      "source": "def func0(n):\n    if n == 0: return 1\n    return func0(n-1) + 5\n",
      "metadata": {
        "trusted": true
      },
      "outputs": [],
      "execution_count": null
    },
    {
      "cell_type": "markdown",
      "source": "The function func0(n) calls itself recursively, decreasing n by 1 on each call. This continues until n == 0. Therefore, the number of recursive calls is proportional to n.\nWorst-case time complexity: O(n)",
      "metadata": {}
    },
    {
      "cell_type": "code",
      "source": "def func1(n):\n    i = 1\n    while i < n:\n        i = i*2\n",
      "metadata": {
        "trusted": true
      },
      "outputs": [],
      "execution_count": null
    },
    {
      "cell_type": "markdown",
      "source": "n func1(n), the variable i starts at 1 and is doubled on each iteration (i = i * 2). The loop continues until i >= n. The number of iterations is proportional to the logarithm of n (log base 2).\nWorst-case time complexity: O(log n)",
      "metadata": {}
    },
    {
      "cell_type": "code",
      "source": "def func2(n):\n    if n == 1:\n        return False\n    i = 2\n    while i*i <= n:\n        if n % i  == 0:\n            return False\n        i+=1\n    return True\n",
      "metadata": {
        "trusted": true
      },
      "outputs": [],
      "execution_count": null
    },
    {
      "cell_type": "markdown",
      "source": "In func2(n), the loop iterates while i*i <= n, checking potential factors up to the square root of n. Therefore, the number of iterations is proportional to the square root of n.\nWorst-case time complexity: O(√n)",
      "metadata": {}
    },
    {
      "cell_type": "markdown",
      "source": "2. Implement binary heap and priority queue based on the binary heap. Provide tests.",
      "metadata": {}
    },
    {
      "cell_type": "code",
      "source": "class BinaryHeap:\n    def __init__(self):\n        self.heap = []\n\n    def push(self, val):\n        self.heap.append(val)\n        self._bubble_up(len(self.heap) - 1)\n\n    def pop(self):\n        if len(self.heap) == 0:\n            raise IndexError(\"pop from empty heap\")\n        if len(self.heap) == 1:\n            return self.heap.pop()\n        top = self.heap[0]\n        self.heap[0] = self.heap.pop()\n        self._bubble_down(0)\n        return top\n\n    def peek(self):\n        if len(self.heap) == 0:\n            raise IndexError(\"peek from empty heap\")\n        return self.heap[0]\n\n    def _bubble_up(self, index):\n        parent = (index - 1) // 2\n        while index > 0 and self.heap[index] < self.heap[parent]:\n            self.heap[index], self.heap[parent] = self.heap[parent], self.heap[index]\n            index = parent\n            parent = (index - 1) // 2\n\n    def _bubble_down(self, index):\n        n = len(self.heap)\n        while True:\n            left = 2 * index + 1\n            right = 2 * index + 2\n            smallest = index\n\n            if left < n and self.heap[left] < self.heap[smallest]:\n                smallest = left\n            if right < n and self.heap[right] < self.heap[smallest]:\n                smallest = right\n\n            if smallest == index:\n                break\n\n            self.heap[index], self.heap[smallest] = self.heap[smallest], self.heap[index]\n            index = smallest\n\nclass PriorityQueue:\n    def __init__(self):\n        self.heap = BinaryHeap()\n\n    def enqueue(self, val):\n        self.heap.push(val)\n\n    def dequeue(self):\n        return self.heap.pop()\n\n    def peek(self):\n        return self.heap.peek()\n\n# Tests\nif __name__ == \"__main__\":\n    # Test BinaryHeap\n    bh = BinaryHeap()\n    bh.push(5)\n    bh.push(3)\n    bh.push(8)\n    bh.push(1)\n\n    assert bh.pop() == 1\n    assert bh.pop() == 3\n    assert bh.pop() == 5\n    assert bh.pop() == 8\n\n    # Test PriorityQueue\n    pq = PriorityQueue()\n    pq.enqueue(10)\n    pq.enqueue(4)\n    pq.enqueue(15)\n    pq.enqueue(1)\n\n    assert pq.dequeue() == 1\n    assert pq.dequeue() == 4\n    assert pq.dequeue() == 10\n    assert pq.dequeue() == 15\n\n    print(\"All tests passed.\")\n",
      "metadata": {
        "trusted": true
      },
      "outputs": [],
      "execution_count": null
    }
  ]
}