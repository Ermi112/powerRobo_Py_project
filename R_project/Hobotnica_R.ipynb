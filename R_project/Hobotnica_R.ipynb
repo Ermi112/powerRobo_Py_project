{
 "cells": [
  {
   "cell_type": "markdown",
   "id": "6468b00d-c11d-478c-963a-936150c01ee0",
   "metadata": {},
   "source": [
    "### --- Step 1: Load Expression Data ---"
   ]
  },
  {
   "cell_type": "code",
   "execution_count": 12,
   "id": "3add562f-0a68-42f0-84a3-afd118d94266",
   "metadata": {},
   "outputs": [],
   "source": [
    "# Load your one-sample file\n",
    "data1 <- read.table(\"GSM1172856_CAMA1.txt\", header = TRUE, row.names = 1)\n",
    "\n",
    "# Load large expression matrix (no header)\n",
    "# Load raw data (no header)\n",
    "raw_data2 <- read.delim(\"GSE62944_1.txt\", header = FALSE, check.names = FALSE)\n",
    "\n",
    "# Transpose\n",
    "expr_data2 <- t(raw_data2)\n",
    "\n",
    "# Safely convert to numeric and preserve structure\n",
    "suppressWarnings({\n",
    "  expr_data2_numeric <- matrix(as.numeric(expr_data2), \n",
    "                               nrow = nrow(expr_data2), \n",
    "                               ncol = ncol(expr_data2))\n",
    "})\n",
    "\n",
    "# Remove any rows with NA values\n",
    "expr_data2_clean <- expr_data2_numeric[complete.cases(expr_data2_numeric), ]\n",
    "\n",
    "# Assign dimnames ONLY if row/col counts match\n",
    "if (nrow(expr_data2_clean) > 0 && ncol(expr_data2_clean) > 0) {\n",
    "  rownames(expr_data2_clean) <- paste0(\"Gene\", seq_len(nrow(expr_data2_clean)))\n",
    "  colnames(expr_data2_clean) <- paste0(\"Sample\", seq_len(ncol(expr_data2_clean)))\n",
    "}\n",
    "\n",
    "# Now it's clean, numeric, and safe for further use\n",
    "expr_data2 <- expr_data2_clean\n",
    "\n"
   ]
  },
  {
   "cell_type": "markdown",
   "id": "e45ea329-f7df-4c1c-a036-29f62b8dd39e",
   "metadata": {},
   "source": [
    "### --- Step 2: Gene Filtering by Variance ---"
   ]
  },
  {
   "cell_type": "code",
   "execution_count": 5,
   "id": "7ce9f70d-e8e3-48a9-a2fc-c10fd3f5ec44",
   "metadata": {},
   "outputs": [],
   "source": [
    "gene_var <- apply(expr_matrix, 1, var)\n",
    "top_genes <- names(sort(gene_var, decreasing = TRUE))[1:1000]\n",
    "expr_matrix <- expr_matrix[top_genes, ]\n"
   ]
  },
  {
   "cell_type": "markdown",
   "id": "c5a1abbe-3bc1-4266-81d2-723f1dfb932e",
   "metadata": {},
   "source": [
    "### --- Step 3: Define Annotations ---"
   ]
  },
  {
   "cell_type": "code",
   "execution_count": 7,
   "id": "fe0cef22-a7e5-403f-938f-1ef72c3d01b4",
   "metadata": {},
   "outputs": [],
   "source": [
    "annotation <- c(\"A\", rep(\"B\", ncol(expr_data2)))"
   ]
  },
  {
   "cell_type": "markdown",
   "id": "ace71188-ac2b-4525-99d8-ad0f61f06cc6",
   "metadata": {},
   "source": [
    "### --- Step 4: Create Distance Matrix ---"
   ]
  },
  {
   "cell_type": "code",
   "execution_count": 8,
   "id": "b28a3ed1-6bbc-4e97-9d9c-28437b9664a5",
   "metadata": {},
   "outputs": [],
   "source": [
    "dist_matrix <- as.matrix(dist(t(expr_matrix), method = \"euclidean\"))"
   ]
  },
  {
   "cell_type": "markdown",
   "id": "3b9cd09f-9e9f-4872-a228-1a2655b3e652",
   "metadata": {},
   "source": [
    "### --- Step 5: Hobotnica Functions ---"
   ]
  },
  {
   "cell_type": "code",
   "execution_count": 10,
   "id": "27b29362-776c-4155-a2f4-560b12098e72",
   "metadata": {},
   "outputs": [],
   "source": [
    "Hobotnica <- function(distMatrix, annotation){\n",
    "  annotation <- as.vector(annotation)\n",
    "  rank.m <- as.matrix(distMatrix)\n",
    "  rank.m[lower.tri(rank.m)] <- rank(rank.m[lower.tri(rank.m)])\n",
    "  rank.m[upper.tri(rank.m)] <- rank(rank.m[upper.tri(rank.m)])\n",
    "  inclass_sum <- 0\n",
    "  classes <- unique(annotation)\n",
    "  Ns <- vector()\n",
    "  \n",
    "  for (i in 1:length(classes)) {\n",
    "    class_samples <- which(annotation == classes[i])\n",
    "    Ns[i] <- length(class_samples)\n",
    "    inclass_sum <- inclass_sum + sum(rank.m[class_samples, class_samples])\n",
    "  }\n",
    "  \n",
    "  Ns_sum <- sum(Ns)\n",
    "  biggest_bossible_rank <- Ns_sum * (Ns_sum - 1) / 2\n",
    "  number_of_unique_inclass_elements <- sum(Ns * (Ns - 1)) / 2\n",
    "  maximal_value <- number_of_unique_inclass_elements *\n",
    "    (2 * biggest_bossible_rank - number_of_unique_inclass_elements + 1)\n",
    "  minimal_value <- number_of_unique_inclass_elements *\n",
    "    (1 + number_of_unique_inclass_elements)\n",
    "  normalization_factor <- maximal_value - minimal_value\n",
    "  \n",
    "  return(max(0, 1 - (inclass_sum - minimal_value) / normalization_factor))\n",
    "}\n",
    "\n",
    "Hobot_distr <- function(N, distMatrix, annotation){\n",
    "  hobots <- vector()\n",
    "  for (i in 1:N){\n",
    "    sample_anno <- sample(annotation)\n",
    "    hobots <- c(hobots, Hobotnica(distMatrix, sample_anno))\n",
    "  }\n",
    "  return(hobots)\n",
    "}\n",
    "\n",
    "Hobot_pval <- function(Test_hobot, Hobots){\n",
    "  p_val <- mean(Hobots <= Test_hobot)\n",
    "  return(p_val)\n",
    "}\n"
   ]
  },
  {
   "cell_type": "markdown",
   "id": "a5961bc0-79b4-4fd0-ab50-184fa9752a71",
   "metadata": {},
   "source": [
    "### --- Step 6: Run Hobotnica Analysis ---"
   ]
  },
  {
   "cell_type": "code",
   "execution_count": 11,
   "id": "867bdce3-e079-4315-af8f-2a06312ada9d",
   "metadata": {},
   "outputs": [
    {
     "name": "stdout",
     "output_type": "stream",
     "text": [
      "Hobotnica H-score: 0.1658749 \n",
      "P-value: 0.002 \n"
     ]
    }
   ],
   "source": [
    "set.seed(42)\n",
    "H_score <- Hobotnica(dist_matrix, annotation)\n",
    "null_dist <- Hobot_distr(1000, dist_matrix, annotation)\n",
    "p_val <- Hobot_pval(H_score, null_dist)\n",
    "cat(\"Hobotnica H-score:\", H_score, \"\\n\")\n",
    "cat(\"P-value:\", p_val, \"\\n\")"
   ]
  },
  {
   "cell_type": "code",
   "execution_count": null,
   "id": "3820e6b3-7e5d-408d-9e4d-7d66a00b3ff2",
   "metadata": {},
   "outputs": [],
   "source": []
  }
 ],
 "metadata": {
  "kernelspec": {
   "display_name": "R",
   "language": "R",
   "name": "ir"
  },
  "language_info": {
   "codemirror_mode": "r",
   "file_extension": ".r",
   "mimetype": "text/x-r-source",
   "name": "R",
   "pygments_lexer": "r",
   "version": "4.4.3"
  }
 },
 "nbformat": 4,
 "nbformat_minor": 5
}
