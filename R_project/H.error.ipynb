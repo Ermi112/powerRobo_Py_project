{
 "cells": [
  {
   "cell_type": "code",
   "execution_count": 5,
   "id": "4397aa57-d74b-4f68-a8a4-d84a62ba3a28",
   "metadata": {},
   "outputs": [],
   "source": [
    "setwd(\"C:\\\\Users\\\\Ermias\\\\Documents\\\\data visualization\\\\R_project\")\n"
   ]
  },
  {
   "cell_type": "code",
   "execution_count": 36,
   "id": "0f34778d-a1bd-4449-b24f-2c3cbe7236b8",
   "metadata": {},
   "outputs": [
    {
     "name": "stdout",
     "output_type": "stream",
     "text": [
      "✅ Hobotnica H-score: NA \n",
      "✅ P-value: NA \n"
     ]
    }
   ],
   "source": [
    "# --- Load Data ---\n",
    "expr_matrix <- read.delim(\"GSM1172856_CAMA1.txt\", header = TRUE, stringsAsFactors = FALSE, na.strings = c(\"\", \"NA\"))\n",
    "expr_matrix <- read.delim(\"GSM1172856_CAMA1.txt\", sep = \"\\t\", header = TRUE, row.names = 1, stringsAsFactors = FALSE, skip = 1)\n",
    "\n",
    "annotation_df <- read.delim(\"SraRunTable_GSE48216.pam50.txt\", header = TRUE, stringsAsFactors = FALSE)\n",
    "expr_matrix[is.na(expr_matrix)] <- 0\n",
    "\n",
    "# --- Clean Annotation ---\n",
    "# Split X.Group column to extract Run and Group\n",
    "split_group <- strsplit(as.character(annotation_df$X.Group), \",\")\n",
    "annotation_clean <- do.call(rbind, split_group)\n",
    "colnames(annotation_clean) <- c(\"Run\", \"Group\")\n",
    "annotation_clean <- as.data.frame(annotation_clean, stringsAsFactors = FALSE)\n",
    "\n",
    "# --- Match Sample ---\n",
    "sample_ids <- \"GSM1172856\"  # Update if you have more samples\n",
    "matched_anno <- annotation_clean[match(sample_ids, annotation_clean$Run), , drop = FALSE]\n",
    "annotation_vector <- matched_anno$Group\n",
    "\n",
    "# --- Check validity ---\n",
    "if (length(unique(annotation_vector)) < 1 || is.na(annotation_vector)) {\n",
    "  stop(\"❌ Invalid or missing group label for the sample.\")\n",
    "}\n",
    "\n",
    "# --- Filter Genes (Top 1000 by Variance) ---\n",
    "if (ncol(expr_matrix) < 2) {\n",
    "  # For single sample, gene filtering is still valid based on expression variability\n",
    "  gene_var <- apply(expr_matrix, 1, var)\n",
    "  top_genes <- names(sort(gene_var, decreasing = TRUE))[1:min(1000, length(gene_var))]\n",
    "  expr_matrix <- expr_matrix[top_genes, , drop = FALSE]\n",
    "} else {\n",
    "  stop(\"⚠️ This script assumes a single sample is compared to a larger set. Please combine datasets if needed.\")\n",
    "}\n",
    "\n",
    "# --- Distance Matrix ---\n",
    "dist_matrix <- as.matrix(dist(t(expr_matrix), method = \"euclidean\"))\n",
    "\n",
    "# --- Hobotnica Functions ---\n",
    "Hobotnica <- function(distMatrix, annotation){\n",
    "  annotation <- as.vector(annotation)\n",
    "  rank.m <- as.matrix(distMatrix)\n",
    "  rank.m[lower.tri(rank.m)] <- rank(rank.m[lower.tri(rank.m)])\n",
    "  rank.m[upper.tri(rank.m)] <- rank(rank.m[upper.tri(rank.m)])\n",
    "  inclass_sum <- 0\n",
    "  classes <- unique(annotation)\n",
    "  Ns <- numeric(length(classes))\n",
    "  for (i in seq_along(classes)) {\n",
    "    class_samples <- which(annotation == classes[i])\n",
    "    Ns[i] <- length(class_samples)\n",
    "    inclass_sum <- inclass_sum + sum(rank.m[class_samples, class_samples])\n",
    "  }\n",
    "  Ns_sum <- sum(Ns)\n",
    "  if (Ns_sum <= 1) return(NA)\n",
    "  biggest_bossible_rank <- Ns_sum * (Ns_sum - 1) / 2\n",
    "  number_of_unique_inclass_elements <- sum(Ns * (Ns - 1)) / 2\n",
    "  maximal_value <- number_of_unique_inclass_elements * \n",
    "    (2 * biggest_bossible_rank - number_of_unique_inclass_elements + 1)\n",
    "  minimal_value <- number_of_unique_inclass_elements * \n",
    "    (1 + number_of_unique_inclass_elements)\n",
    "  normalization_factor <- maximal_value - minimal_value\n",
    "  return(max(0, 1 - (inclass_sum - minimal_value) / normalization_factor))\n",
    "}\n",
    "\n",
    "Hobot_distr <- function(N, distMatrix, annotation){\n",
    "  hobots <- numeric(N)\n",
    "  for (i in 1:N){\n",
    "    permuted <- sample(annotation)\n",
    "    hobots[i] <- Hobotnica(distMatrix, permuted)\n",
    "  }\n",
    "  return(hobots)\n",
    "}\n",
    "\n",
    "Hobot_pval <- function(Test_hobot, Hobots){\n",
    "  if (is.na(Test_hobot)) return(NA)\n",
    "  return(mean(Hobots <= Test_hobot))\n",
    "}\n",
    "\n",
    "# --- Run Hobotnica ---\n",
    "set.seed(42)\n",
    "H_score <- Hobotnica(dist_matrix, annotation_vector)\n",
    "null_dist <- Hobot_distr(1000, dist_matrix, annotation_vector)\n",
    "p_val <- Hobot_pval(H_score, null_dist)\n",
    "\n",
    "# --- Output ---\n",
    "cat(\"✅ Hobotnica H-score:\", round(H_score, 4), \"\\n\")\n",
    "cat(\"✅ P-value:\", format.pval(p_val, digits = 4), \"\\n\")\n",
    "\n"
   ]
  },
  {
   "cell_type": "code",
   "execution_count": 17,
   "id": "422496e6-1260-4c33-ae4e-e2e86d5e1e57",
   "metadata": {},
   "outputs": [
    {
     "data": {
      "text/html": [
       "11"
      ],
      "text/latex": [
       "11"
      ],
      "text/markdown": [
       "11"
      ],
      "text/plain": [
       "[1] 11"
      ]
     },
     "metadata": {},
     "output_type": "display_data"
    }
   ],
   "source": [
    "grep(\"GSM1172856\", annotation_clean$Run)\n",
    "\n"
   ]
  },
  {
   "cell_type": "code",
   "execution_count": 20,
   "id": "9c4c46f4-c3a0-4d82-a55c-d08afcf58056",
   "metadata": {},
   "outputs": [],
   "source": [
    "sample_ids <- c(\"GSM1172882\")  # Use the actual GEO ID\n",
    "\n",
    "# Match sample IDs to annotation data\n",
    "matched_annotation <- annotation_clean[match(sample_ids, annotation_clean$Run), , drop = FALSE]\n",
    "\n",
    "# Extract group labels\n",
    "annotation_vector <- matched_annotation$Group\n"
   ]
  },
  {
   "cell_type": "code",
   "execution_count": 21,
   "id": "ae36f0e3-ff4f-4d81-ac42-aa36db4340b1",
   "metadata": {},
   "outputs": [
    {
     "name": "stdout",
     "output_type": "stream",
     "text": [
      "[1] \"Non-malignant\"\n"
     ]
    }
   ],
   "source": [
    "print(unique(annotation_vector))\n"
   ]
  },
  {
   "cell_type": "code",
   "execution_count": 22,
   "id": "8b01061e-c7f4-4193-8ed3-933155cea718",
   "metadata": {},
   "outputs": [
    {
     "name": "stdout",
     "output_type": "stream",
     "text": [
      "Hobotnica H-score: NA \n",
      "P-value: NA \n"
     ]
    }
   ],
   "source": [
    "set.seed(42)\n",
    "H_score <- Hobotnica(dist_matrix, annotation_vector)\n",
    "null_dist <- Hobot_distr(1000, dist_matrix, annotation_vector)\n",
    "p_val <- Hobot_pval(H_score, null_dist)\n",
    "\n",
    "cat(\"Hobotnica H-score:\", H_score, \"\\n\")\n",
    "cat(\"P-value:\", p_val, \"\\n\")\n"
   ]
  },
  {
   "cell_type": "code",
   "execution_count": 1,
   "id": "c70108db-11c9-4604-b341-0c3882cca9a7",
   "metadata": {},
   "outputs": [
    {
     "data": {
      "text/html": [
       "'C:/Users/Ermias'"
      ],
      "text/latex": [
       "'C:/Users/Ermias'"
      ],
      "text/markdown": [
       "'C:/Users/Ermias'"
      ],
      "text/plain": [
       "[1] \"C:/Users/Ermias\""
      ]
     },
     "metadata": {},
     "output_type": "display_data"
    }
   ],
   "source": [
    "getwd()"
   ]
  }
 ],
 "metadata": {
  "kernelspec": {
   "display_name": "R",
   "language": "R",
   "name": "ir"
  },
  "language_info": {
   "codemirror_mode": "r",
   "file_extension": ".r",
   "mimetype": "text/x-r-source",
   "name": "R",
   "pygments_lexer": "r",
   "version": "4.4.3"
  }
 },
 "nbformat": 4,
 "nbformat_minor": 5
}
