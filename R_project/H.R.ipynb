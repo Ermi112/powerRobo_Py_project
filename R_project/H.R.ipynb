{
 "cells": [
  {
   "cell_type": "code",
   "execution_count": 2,
   "id": "20153811-dc5a-4cc2-b6ad-a6de9360f09d",
   "metadata": {},
   "outputs": [],
   "source": [
    "setwd(\"C:\\\\Users\\\\Ermias\\\\Documents\\\\data visualization\\\\R_project\")"
   ]
  },
  {
   "cell_type": "markdown",
   "id": "2bb07877-4eb5-462c-8db5-8badc1eeeeb8",
   "metadata": {},
   "source": [
    "### Load libraries"
   ]
  },
  {
   "cell_type": "code",
   "execution_count": 9,
   "id": "0631a984-6984-4b8f-8084-cbb78a4c81cb",
   "metadata": {},
   "outputs": [],
   "source": [
    "library(data.table)\n",
    "library(stats)"
   ]
  },
  {
   "cell_type": "markdown",
   "id": "990b8376-d695-4636-a42e-1774a655a645",
   "metadata": {},
   "source": [
    " ### 🧬=== GSE58135 Dataset Preprocessing and Distance Matrix Calculation ==="
   ]
  },
  {
   "cell_type": "code",
   "execution_count": 30,
   "id": "7b72e9d8-9035-4047-a029-2906722f5362",
   "metadata": {},
   "outputs": [
    {
     "name": "stdout",
     "output_type": "stream",
     "text": [
      "           SRR1313160 SRR1313187 SRR1313130 SRR1313120 SRR1313129 SRR1313207\n",
      "SRR1313160       0.00     712.01     979.96     855.00     797.08     323.05\n",
      "SRR1313187     712.01       0.00     426.91     402.63     326.83     591.51\n",
      "SRR1313130     979.96     426.91       0.00     352.50     332.46     868.52\n",
      "SRR1313120     855.00     402.63     352.50       0.00     307.40     751.94\n",
      "SRR1313129     797.08     326.83     332.46     307.40       0.00     689.76\n",
      "SRR1313207     323.05     591.51     868.52     751.94     689.76       0.00\n"
     ]
    }
   ],
   "source": [
    "# === Load Data ===\n",
    "# Count matrix (genes x samples)\n",
    "count_matrix <- fread(\"GSE58135.countmatrix.txt\", header = TRUE)\n",
    "rownames(count_matrix) <- count_matrix[[1]]\n",
    "count_matrix <- as.matrix(count_matrix[ , -1, with = FALSE])\n",
    "\n",
    "# Load annotation (row names might contain commas)\n",
    "annotation <- read.csv(\"SraRunTable_GSE58135.pam50.txt\", header = TRUE, row.names = 1)\n",
    "clean_ids <- sub(\",.*\", \"\", rownames(annotation))  # Remove everything after comma\n",
    "rownames(annotation) <- clean_ids\n",
    "\n",
    "# Keep only common samples between count matrix and annotation\n",
    "common_samples <- intersect(colnames(count_matrix), rownames(annotation))\n",
    "count_matrix <- count_matrix[, common_samples]\n",
    "group_labels <- annotation[common_samples, \"source_name\"]\n",
    "\n",
    "# === Filter genes with zero variance  ===\n",
    "count_matrix <- count_matrix[apply(count_matrix, 1, var) > 0, ]\n",
    "\n",
    "# === Normalize ===\n",
    "norm_matrix <- log2(count_matrix + 1)\n",
    "\n",
    "# === Calculate Distance Matrix ===\n",
    "distMatrix <- dist(t(norm_matrix), method = \"euclidean\")\n",
    "distMatrix <- as.matrix(distMatrix)\n",
    "\n",
    "print(round(distMatrix[1:6,1:6], 2))  # Print first 6x6 portion for sanity check\n"
   ]
  },
  {
   "cell_type": "markdown",
   "id": "513e7b66-2fdc-4f67-b88e-85e7f80db54c",
   "metadata": {},
   "source": [
    "### === Hobotnica function ==="
   ]
  },
  {
   "cell_type": "code",
   "execution_count": 43,
   "id": "6537420a-c1e7-4dfd-a56e-1dee137c2760",
   "metadata": {},
   "outputs": [
    {
     "name": "stdout",
     "output_type": "stream",
     "text": [
      "Sample of Rank Matrix (5x5 block):\n",
      "           SRR1313160 SRR1313187 SRR1313130 SRR1313120 SRR1313129\n",
      "SRR1313160          0       8988       9680       9524       9340\n",
      "SRR1313187       8988          0       4386       3438       1017\n",
      "SRR1313130       9680       4386          0       1644       1129\n",
      "SRR1313120       9524       3438       1644          0        738\n",
      "SRR1313129       9340       1017       1129        738          0\n",
      "maximal_value = 52841138 \n",
      "minimal_value = 10643906 \n",
      "norm_factor = 42197232 \n",
      "inclass_sum = 21247012 \n"
     ]
    }
   ],
   "source": [
    "Hobotnica <- function(distMatrix, annotation, verbose=FALSE){\n",
    "  annotation <- as.vector(annotation)\n",
    "\n",
    "  rank.m <- as.matrix(distMatrix)\n",
    "  rank.m[lower.tri(rank.m)] <- rank(rank.m[lower.tri(rank.m)])\n",
    "  rank.m[upper.tri(rank.m)] <- rank(rank.m[upper.tri(rank.m)])\n",
    "\n",
    "     if (verbose) {\n",
    "    cat(\"Sample of Rank Matrix (5x5 block):\\n\")\n",
    "    print(rank.m[1:min(5,nrow(rank.m)), 1:min(5,ncol(rank.m))])\n",
    "  }\n",
    "  inclass_sum <- 0\n",
    "  classes <- unique(annotation)\n",
    "  Ns <- numeric(length(classes))\n",
    "  \n",
    "  for (i in seq_along(classes)){\n",
    "    class_samples <- which(annotation == classes[i])\n",
    "    Ns[i] <- length(class_samples)\n",
    "    inclass_sum <- inclass_sum + sum(rank.m[class_samples, class_samples])\n",
    "  }\n",
    "  \n",
    "  Ns_sum <- sum(Ns)\n",
    "  biggest_rank <- Ns_sum * (Ns_sum - 1) / 2\n",
    "  inclass_unique <- sum(Ns * (Ns - 1)) / 2\n",
    "  maximal_value <- inclass_unique * (2 * biggest_rank - inclass_unique + 1)\n",
    "  minimal_value <- inclass_unique * (1 + inclass_unique)\n",
    "  norm_factor <- maximal_value - minimal_value\n",
    "  \n",
    "  if (verbose) {\n",
    "    cat(\"maximal_value =\", maximal_value, \"\\n\")\n",
    "    cat(\"minimal_value =\", minimal_value, \"\\n\")\n",
    "    cat(\"norm_factor =\", norm_factor, \"\\n\")\n",
    "    cat(\"inclass_sum =\", inclass_sum, \"\\n\")\n",
    "  }\n",
    "  \n",
    "  H <- max(0, 1 - (inclass_sum - minimal_value) / norm_factor)\n",
    "  return(H)\n",
    "}\n",
    "\n",
    "H_score <- Hobotnica(distMatrix, group_labels, verbose=TRUE)"
   ]
  },
  {
   "cell_type": "markdown",
   "id": "0a2c0eea-ecff-48fe-8550-c5d13dcf4f41",
   "metadata": {},
   "source": [
    "### === Permutation function for p-value ==="
   ]
  },
  {
   "cell_type": "code",
   "execution_count": 32,
   "id": "94238ed2-013a-4dac-ad4f-0abe0a34c92a",
   "metadata": {},
   "outputs": [],
   "source": [
    "Hobot_distr <- function(N, distMatrix, annotation){\n",
    "  hobots <- numeric(N)\n",
    "  for (i in 1:N){\n",
    "    shuffled <- sample(annotation)\n",
    "    hobots[i] <- Hobotnica(distMatrix, shuffled, verbose=FALSE)\n",
    "  }\n",
    "  return(hobots)\n",
    "}"
   ]
  },
  {
   "cell_type": "markdown",
   "id": "fd9d841e-e3e6-4101-ab95-3de2f63aeed1",
   "metadata": {},
   "source": [
    "### === Calculate p-value ==="
   ]
  },
  {
   "cell_type": "code",
   "execution_count": 33,
   "id": "3c558f31-9957-4109-b1b9-b94b8f9e3c46",
   "metadata": {},
   "outputs": [],
   "source": [
    "Hobot_pval <- function(test_hobot, hobot_distr){\n",
    "  p_val <- mean(hobot_distr <= test_hobot)\n",
    "  return(p_val)\n",
    "}"
   ]
  },
  {
   "cell_type": "markdown",
   "id": "8625054e-03d1-44f0-9d4b-78ad78663638",
   "metadata": {},
   "source": [
    "### === Run Hobotnica ==="
   ]
  },
  {
   "cell_type": "code",
   "execution_count": 34,
   "id": "3907b302-1174-4887-9019-46dba7ecfef0",
   "metadata": {},
   "outputs": [
    {
     "name": "stdout",
     "output_type": "stream",
     "text": [
      "H-score: 0.7487251 \n",
      "P-value: 9.999e-05 \n"
     ]
    }
   ],
   "source": [
    "set.seed(42)\n",
    "hobot_distribution <- Hobot_distr(10000, distMatrix, group_labels)\n",
    "p_value <- (sum(hobot_distribution >= H_score) + 1) / (length(hobot_distribution) + 1)\n",
    "#p_value <- Hobot_pval(H_score, hobot_distribution)\n",
    "cat(\"H-score:\", H_score, \"\\n\")\n",
    "cat(\"P-value:\", p_value, \"\\n\")"
   ]
  },
  {
   "cell_type": "code",
   "execution_count": 35,
   "id": "685bd1a4-c598-4f56-ba99-aa91b3a1133d",
   "metadata": {},
   "outputs": [
    {
     "name": "stdout",
     "output_type": "stream",
     "text": [
      "Number of samples: 140 \n",
      "Number of groups: 3 \n"
     ]
    },
    {
     "data": {
      "text/plain": [
       "group_labels\n",
       "            ER+ Breast Cancer Primary Tumor \n",
       "                                         42 \n",
       "                                     Normal \n",
       "                                         56 \n",
       "Triple Negative Breast Cancer Primary Tumor \n",
       "                                         42 "
      ]
     },
     "metadata": {},
     "output_type": "display_data"
    }
   ],
   "source": [
    "cat(\"Number of samples:\", length(group_labels), \"\\n\")\n",
    "cat(\"Number of groups:\", length(unique(group_labels)), \"\\n\")\n",
    "table(group_labels)\n"
   ]
  },
  {
   "cell_type": "code",
   "execution_count": 45,
   "id": "bdd0db0c-4e2a-4a81-923b-28e036b017c8",
   "metadata": {},
   "outputs": [
    {
     "data": {
      "image/png": "[encoded data removed]",
      "text/plain": [
       "Plot with title \"Permutation H-score distribution\""
      ]
     },
     "metadata": {
      "image/png": {
       "height": 420,
       "width": 420
      }
     },
     "output_type": "display_data"
    }
   ],
   "source": [
    "hist(hobot_distribution, main=\"Permutation H-score distribution\", xlab=\"H-score\", col=\"lightblue\")\n",
    "abline(v=H_score, col=\"blue\", lwd=2)\n"
   ]
  },
  {
   "cell_type": "code",
   "execution_count": null,
   "id": "27182af2-683d-4e92-8a22-ddf366603b06",
   "metadata": {},
   "outputs": [],
   "source": []
  }
 ],
 "metadata": {
  "kernelspec": {
   "display_name": "R",
   "language": "R",
   "name": "ir"
  },
  "language_info": {
   "codemirror_mode": "r",
   "file_extension": ".r",
   "mimetype": "text/x-r-source",
   "name": "R",
   "pygments_lexer": "r",
   "version": "4.4.3"
  }
 },
 "nbformat": 4,
 "nbformat_minor": 5
}
