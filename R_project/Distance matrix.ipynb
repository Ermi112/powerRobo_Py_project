{
 "cells": [
  {
   "cell_type": "markdown",
   "id": "1d619c92-e36c-4202-b790-94a963bbc269",
   "metadata": {},
   "source": [
    "### 1. Load Required Library\n",
    "#### Purpose: Loads the stats library, which contains essential statistical functions, including dist() for calculating distance matrices."
   ]
  },
  {
   "cell_type": "code",
   "execution_count": 2,
   "id": "66265dcd-97fb-4ada-9d4f-16f6bd9a533f",
   "metadata": {},
   "outputs": [],
   "source": [
    "library(stats)"
   ]
  },
  {
   "cell_type": "markdown",
   "id": "a936e35d-94ee-4165-b4e2-741a3809a4d9",
   "metadata": {},
   "source": [
    "### 2. Generate Feature × Sample Matrix (F × S)"
   ]
  },
  {
   "cell_type": "code",
   "execution_count": 3,
   "id": "dc3850f8-47cc-43ba-9d5b-18a35b5fa693",
   "metadata": {},
   "outputs": [
    {
     "name": "stdout",
     "output_type": "stream",
     "text": [
      "\n",
      "Feature-Sample Matrix (F x S):\n",
      "         [,1]     [,2]     [,3]     [,4]     [,5]     [,6]\n",
      "[1,] 3.588198 1.410008 9.611500 9.098425 9.005854 7.376774\n",
      "[2,] 8.094746 5.752949 5.080007 3.214790 7.235231 5.896594\n",
      "[3,] 4.680792 9.031771 7.098136 1.378536 6.764561 6.347278\n",
      "[4,] 8.947157 5.962915 6.153701 3.951286 9.948428 3.602438\n",
      "[5,] 9.464206 5.109533 1.926322 9.590533 6.901352 2.324023\n",
      "\n",
      "Sample-Feature Matrix (S x F):\n",
      "         [,1]     [,2]     [,3]     [,4]     [,5]\n",
      "[1,] 3.588198 8.094746 4.680792 8.947157 9.464206\n",
      "[2,] 1.410008 5.752949 9.031771 5.962915 5.109533\n",
      "[3,] 9.611500 5.080007 7.098136 6.153701 1.926322\n",
      "[4,] 9.098425 3.214790 1.378536 3.951286 9.590533\n",
      "[5,] 9.005854 7.235231 6.764561 9.948428 6.901352\n",
      "[6,] 7.376774 5.896594 6.347278 3.602438 2.324023\n"
     ]
    }
   ],
   "source": [
    "set.seed(123)\n",
    "F <- 5   # Number of features\n",
    "S <- 6   # Number of samples (3 in R, 3 in G)\n",
    "feature_sample_matrix <- matrix(runif(F * S, 1, 10), nrow = F)\n",
    "\n",
    "# Assign classes to samples\n",
    "classes <- c(\"R\", \"R\", \"R\", \"G\", \"G\", \"G\")  # First 3 Red, next 3 Green\n",
    "\n",
    "cat(\"\\nFeature-Sample Matrix (F x S):\\n\")\n",
    "print(feature_sample_matrix)\n",
    "\n",
    "# Transpose for samples as rows\n",
    "sample_feature_matrix <- t(feature_sample_matrix)\n",
    "\n",
    "cat(\"\\nSample-Feature Matrix (S x F):\\n\")\n",
    "print(sample_feature_matrix)"
   ]
  },
  {
   "cell_type": "markdown",
   "id": "2c688447-399d-4055-b7b2-c58a90df7c2e",
   "metadata": {},
   "source": [
    "### 3. Compute Full Euclidean Distance Matrix"
   ]
  },
  {
   "cell_type": "code",
   "execution_count": 4,
   "id": "b3031ae1-e7b3-4298-b755-7486300313fa",
   "metadata": {},
   "outputs": [
    {
     "name": "stdout",
     "output_type": "stream",
     "text": [
      "\n",
      "Euclidean Distance Matrix:\n",
      "          1         2         3         4        5         6\n",
      "1  0.000000  7.551716 10.762688  9.489792 6.480943 10.075246\n",
      "2  7.551716  0.000000  9.034683 12.175879 9.172197  7.494021\n",
      "3 10.762688  9.034683  0.000000 10.002343 6.653867  3.590503\n",
      "4  9.489792 12.175879 10.002343  0.000000 9.401020  9.368480\n",
      "5  6.480943  9.172197  6.653867  9.401020 0.000000  8.114401\n",
      "6 10.075246  7.494021  3.590503  9.368480 8.114401  0.000000\n"
     ]
    }
   ],
   "source": [
    "dist_matrix <- as.matrix(dist(sample_feature_matrix, method = \"euclidean\"))\n",
    "\n",
    "cat(\"\\nEuclidean Distance Matrix:\\n\")\n",
    "print(dist_matrix)"
   ]
  },
  {
   "cell_type": "markdown",
   "id": "b68cb352-c37a-4570-99e1-61efa9177f76",
   "metadata": {},
   "source": [
    " ### 4. Initialize Rank Matrix"
   ]
  },
  {
   "cell_type": "code",
   "execution_count": 5,
   "id": "2794925c-e86f-4e1f-a0af-1e393cfa3dc3",
   "metadata": {},
   "outputs": [],
   "source": [
    "rank_matrix <- matrix(0, nrow = S, ncol = S)"
   ]
  },
  {
   "cell_type": "markdown",
   "id": "1467d10c-073c-4d2b-8fc7-264f0fc3d6ac",
   "metadata": {},
   "source": [
    "### 5. Rank the Distances"
   ]
  },
  {
   "cell_type": "code",
   "execution_count": 6,
   "id": "8068bd3f-7259-4d2b-a406-121cd8cad463",
   "metadata": {},
   "outputs": [],
   "source": [
    "flat_dist <- dist_matrix\n",
    "flat_dist[lower.tri(flat_dist, diag = TRUE)] <- NA  # Use only upper triangle\n",
    "dist_vals <- na.omit(as.vector(flat_dist))\n",
    "dist_ranks <- rank(dist_vals)"
   ]
  },
  {
   "cell_type": "markdown",
   "id": "74c2b3b3-bab8-403f-8e52-48e7bce4d5f4",
   "metadata": {},
   "source": [
    " ### 6.Fill the Rank Matrix\n",
    " #### Purpose: Fills the upper triangle of rank_matrix with ranks, then mirrors them to the lower triangle to make the matrix symmetric."
   ]
  },
  {
   "cell_type": "code",
   "execution_count": 7,
   "id": "8db1e902-2eb4-46e4-b2b0-4c411c62f32a",
   "metadata": {},
   "outputs": [
    {
     "name": "stdout",
     "output_type": "stream",
     "text": [
      "\n",
      "Full Rank Matrix:\n",
      "     [,1] [,2] [,3] [,4] [,5] [,6]\n",
      "[1,]    0    5   14   11    2   13\n",
      "[2,]    5    0    7   15    8    4\n",
      "[3,]   14    7    0   12    3    1\n",
      "[4,]   11   15   12    0   10    9\n",
      "[5,]    2    8    3   10    0    6\n",
      "[6,]   13    4    1    9    6    0\n"
     ]
    }
   ],
   "source": [
    "rank_matrix[upper.tri(rank_matrix)] <- dist_ranks\n",
    "# Mirror to lower triangle for symmetry\n",
    "rank_matrix <- rank_matrix + t(rank_matrix)\n",
    "\n",
    "cat(\"\\nFull Rank Matrix:\\n\")\n",
    "print(rank_matrix)"
   ]
  },
  {
   "cell_type": "markdown",
   "id": "08d4b623-8e22-44ae-9f72-b4e20573b738",
   "metadata": {},
   "source": [
    " ### 7. Extract In-Class and Out-Class Ranks\n",
    " #### Purpose: Separates ranks into two groups:\n",
    "\n",
    "#### in_class_ranks: Ranks of distances between samples of the same class (R-R or G-G).\n",
    "\n",
    "#### out_class_ranks: Ranks of distances between samples of different classes (R-G)."
   ]
  },
  {
   "cell_type": "code",
   "execution_count": 8,
   "id": "3c81b592-f3e6-4b30-ac9a-a0a95a4e3695",
   "metadata": {},
   "outputs": [
    {
     "name": "stdout",
     "output_type": "stream",
     "text": [
      "\n",
      "In-Class Ranks (Red + Green within each):\n",
      "[1]  5 14  7 10  9  6\n",
      "\n",
      "Out-Class Ranks (Between Red-Green):\n",
      "[1] 11  2 13 15  8  4 12  3  1\n"
     ]
    }
   ],
   "source": [
    "in_class_ranks <- c()\n",
    "out_class_ranks <- c()\n",
    "\n",
    "for (i in 1:(S - 1)) {\n",
    "  for (j in (i + 1):S) {\n",
    "    if (classes[i] == classes[j]) {\n",
    "      in_class_ranks <- c(in_class_ranks, rank_matrix[i, j])\n",
    "    } else {\n",
    "      out_class_ranks <- c(out_class_ranks, rank_matrix[i, j])\n",
    "    }\n",
    "  }\n",
    "}\n",
    "\n",
    "cat(\"\\nIn-Class Ranks (Red + Green within each):\\n\")\n",
    "print(in_class_ranks)\n",
    "\n",
    "cat(\"\\nOut-Class Ranks (Between Red-Green):\\n\")\n",
    "print(out_class_ranks)"
   ]
  },
  {
   "cell_type": "markdown",
   "id": "8d134dd1-a448-46c5-b786-28166b7ac0b6",
   "metadata": {},
   "source": [
    "### 8.Display In-Class and Out-Class Rank Matrix\n",
    "#### Purpose: Prints the rank matrix with:\n",
    "\n",
    "#### * for in-class ranks (same class).\n",
    "\n",
    "#### Plain numbers for out-class ranks (different classes).\n",
    "\n",
    "#### Diagonal entries are 0 (distance to self)."
   ]
  },
  {
   "cell_type": "code",
   "execution_count": 9,
   "id": "a6123825-b3e1-4747-82fd-be7ceca05b29",
   "metadata": {},
   "outputs": [
    {
     "name": "stdout",
     "output_type": "stream",
     "text": [
      "\n",
      "In-Class and Out-Class Rank Matrix (textual):\n",
      "  0   5* 14* 11   2  13 \n",
      "  5*  0   7* 15   8   4 \n",
      " 14*  7*  0  12   3   1 \n",
      " 11  15  12   0  10*  9*\n",
      "  2   8   3  10*  0   6*\n",
      " 13   4   1   9*  6*  0 \n"
     ]
    }
   ],
   "source": [
    "cat(\"\\nIn-Class and Out-Class Rank Matrix (textual):\\n\")\n",
    "for (i in 1:S) {\n",
    "  for (j in 1:S) {\n",
    "    if (i == j) {\n",
    "      cat(\"  0 \")\n",
    "    } else if (classes[i] == classes[j]) {\n",
    "      cat(sprintf(\" %2d*\", rank_matrix[i, j]))  # In-class with *\n",
    "    } else {\n",
    "      cat(sprintf(\" %2d \", rank_matrix[i, j]))  # Out-class plain\n",
    "    }\n",
    "  }\n",
    "  cat(\"\\n\")\n",
    "}"
   ]
  },
  {
   "cell_type": "markdown",
   "id": "6606f86c-b963-4f19-8fe7-d889ce7f83ea",
   "metadata": {},
   "source": [
    "### 9. Alpha Score Calculation"
   ]
  },
  {
   "cell_type": "code",
   "execution_count": 10,
   "id": "38d86618-89b8-48ac-bbec-7dfcb069ebdf",
   "metadata": {},
   "outputs": [
    {
     "name": "stdout",
     "output_type": "stream",
     "text": [
      "Total pairs (M): 15 \n",
      "In-class pairs (N): 6 \n",
      "Minimal rank sum (A): 21 \n",
      "Maximal rank sum (B): 75 \n",
      "Observed in-class rank sum (R_sum): 51 \n",
      "Alpha score: 0.4444 \n"
     ]
    }
   ],
   "source": [
    "# Calculate M and N (for normalization)\n",
    "m <- sum(classes == \"R\")  # Number of samples in class R\n",
    "n <- sum(classes == \"G\")  # Number of samples in class G\n",
    "\n",
    "M <- (m + n) * (m + n - 1) / 2  # Total possible pairs (full matrix)\n",
    "N <- (m * (m - 1) + n * (n - 1)) / 2  # Total in-class pairs (R-R + G-G)\n",
    "\n",
    "# Calculate A and B (theoretical min/max rank sums)\n",
    "A <- sum(1:N)        # Minimal possible sum (best separation)\n",
    "B <- sum((M - N + 1):M)  # Maximal possible sum (worst separation)\n",
    "\n",
    "# Alpha score calculation\n",
    "R_sum <- sum(in_class_ranks)  # Observed in-class rank sum\n",
    "alpha <- (B - R_sum) / (B - A)\n",
    "\n",
    "# Print results\n",
    "cat(\"Total pairs (M):\", M, \"\\n\")\n",
    "cat(\"In-class pairs (N):\", N, \"\\n\")\n",
    "cat(\"Minimal rank sum (A):\", A, \"\\n\")\n",
    "cat(\"Maximal rank sum (B):\", B, \"\\n\")\n",
    "cat(\"Observed in-class rank sum (R_sum):\", R_sum, \"\\n\")\n",
    "cat(\"Alpha score:\", round(alpha, 4), \"\\n\")"
   ]
  },
  {
   "cell_type": "code",
   "execution_count": null,
   "id": "26382a1c-8518-4004-9c6a-1d5c1729be72",
   "metadata": {},
   "outputs": [],
   "source": []
  }
 ],
 "metadata": {
  "kernelspec": {
   "display_name": "R",
   "language": "R",
   "name": "ir"
  },
  "language_info": {
   "codemirror_mode": "r",
   "file_extension": ".r",
   "mimetype": "text/x-r-source",
   "name": "R",
   "pygments_lexer": "r",
   "version": "4.4.3"
  }
 },
 "nbformat": 4,
 "nbformat_minor": 5
}
